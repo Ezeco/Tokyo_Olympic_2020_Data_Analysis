{
 "cells": [
  {
   "cell_type": "markdown",
   "id": "0b78afaf-d043-487b-bc0d-90f216bb0e65",
   "metadata": {},
   "source": [
    "# Import libraries for the Tokyo Olympics Data Analysis"
   ]
  },
  {
   "cell_type": "code",
   "execution_count": 4,
   "id": "503676f8-f4bf-46e0-9714-3504386551d1",
   "metadata": {},
   "outputs": [],
   "source": [
    "import pandas as pd\n",
    "import numpy as np\n",
    "import matplotlib.pyplot as plt\n",
    "import seaborn as sns\n",
    "from sklearn.impute import KNNImputer\n",
    "from sklearn.metrics import mean_squared_error, r2_score"
   ]
  },
  {
   "cell_type": "markdown",
   "id": "a392baba-37c4-409e-bb97-41c90d11cb75",
   "metadata": {},
   "source": [
    "# Load the Dataset"
   ]
  },
  {
   "cell_type": "code",
   "execution_count": 6,
   "id": "ad34dee1-902a-4c6a-803a-b6bbcd872d13",
   "metadata": {},
   "outputs": [],
   "source": [
    "tokyo_olympics = pd.read_csv('Tokyo Medals 2020.csv')"
   ]
  },
  {
   "cell_type": "markdown",
   "id": "4cd6723a-f84c-4991-8180-6f7427602807",
   "metadata": {},
   "source": [
    "# View the Dataset"
   ]
  },
  {
   "cell_type": "code",
   "execution_count": 10,
   "id": "94fd2795-bf7b-4be3-b47a-376d643283cb",
   "metadata": {},
   "outputs": [
    {
     "data": {
      "text/html": [
       "<div>\n",
       "<style scoped>\n",
       "    .dataframe tbody tr th:only-of-type {\n",
       "        vertical-align: middle;\n",
       "    }\n",
       "\n",
       "    .dataframe tbody tr th {\n",
       "        vertical-align: top;\n",
       "    }\n",
       "\n",
       "    .dataframe thead th {\n",
       "        text-align: right;\n",
       "    }\n",
       "</style>\n",
       "<table border=\"1\" class=\"dataframe\">\n",
       "  <thead>\n",
       "    <tr style=\"text-align: right;\">\n",
       "      <th></th>\n",
       "      <th>Country</th>\n",
       "      <th>Gold Medal</th>\n",
       "      <th>Silver Medal</th>\n",
       "      <th>Bronze Medal</th>\n",
       "      <th>Total</th>\n",
       "      <th>Rank By Total</th>\n",
       "    </tr>\n",
       "  </thead>\n",
       "  <tbody>\n",
       "    <tr>\n",
       "      <th>0</th>\n",
       "      <td>United States of America</td>\n",
       "      <td>39</td>\n",
       "      <td>41</td>\n",
       "      <td>33</td>\n",
       "      <td>113</td>\n",
       "      <td>1</td>\n",
       "    </tr>\n",
       "    <tr>\n",
       "      <th>1</th>\n",
       "      <td>People's Republic of China</td>\n",
       "      <td>38</td>\n",
       "      <td>32</td>\n",
       "      <td>18</td>\n",
       "      <td>88</td>\n",
       "      <td>2</td>\n",
       "    </tr>\n",
       "    <tr>\n",
       "      <th>2</th>\n",
       "      <td>Japan</td>\n",
       "      <td>27</td>\n",
       "      <td>14</td>\n",
       "      <td>17</td>\n",
       "      <td>58</td>\n",
       "      <td>5</td>\n",
       "    </tr>\n",
       "    <tr>\n",
       "      <th>3</th>\n",
       "      <td>Great Britain</td>\n",
       "      <td>22</td>\n",
       "      <td>21</td>\n",
       "      <td>22</td>\n",
       "      <td>65</td>\n",
       "      <td>4</td>\n",
       "    </tr>\n",
       "    <tr>\n",
       "      <th>4</th>\n",
       "      <td>ROC</td>\n",
       "      <td>20</td>\n",
       "      <td>28</td>\n",
       "      <td>23</td>\n",
       "      <td>71</td>\n",
       "      <td>3</td>\n",
       "    </tr>\n",
       "  </tbody>\n",
       "</table>\n",
       "</div>"
      ],
      "text/plain": [
       "                      Country  Gold Medal  Silver Medal  Bronze Medal  Total  \\\n",
       "0    United States of America          39            41            33    113   \n",
       "1  People's Republic of China          38            32            18     88   \n",
       "2                       Japan          27            14            17     58   \n",
       "3               Great Britain          22            21            22     65   \n",
       "4                         ROC          20            28            23     71   \n",
       "\n",
       "   Rank By Total  \n",
       "0              1  \n",
       "1              2  \n",
       "2              5  \n",
       "3              4  \n",
       "4              3  "
      ]
     },
     "execution_count": 10,
     "metadata": {},
     "output_type": "execute_result"
    }
   ],
   "source": [
    "tokyo_olympics.head(5)"
   ]
  },
  {
   "cell_type": "code",
   "execution_count": 11,
   "id": "eab0af74-209c-4fb0-a77c-806bf76f18fd",
   "metadata": {},
   "outputs": [
    {
     "data": {
      "text/plain": [
       "0       United States of America\n",
       "1     People's Republic of China\n",
       "2                          Japan\n",
       "3                  Great Britain\n",
       "4                            ROC\n",
       "                 ...            \n",
       "88                         Ghana\n",
       "89                       Grenada\n",
       "90                        Kuwait\n",
       "91           Republic of Moldova\n",
       "92          Syrian Arab Republic\n",
       "Name: Country, Length: 93, dtype: object"
      ]
     },
     "execution_count": 11,
     "metadata": {},
     "output_type": "execute_result"
    }
   ],
   "source": [
    "tokyo_olympics['Country']"
   ]
  },
  {
   "cell_type": "markdown",
   "id": "065cec56-08e9-4817-a341-4537021e315d",
   "metadata": {},
   "source": [
    "# View the variables"
   ]
  },
  {
   "cell_type": "code",
   "execution_count": 15,
   "id": "7d49fa0a-01aa-4491-a281-4e133ef9cb59",
   "metadata": {},
   "outputs": [
    {
     "data": {
      "text/plain": [
       "Index(['Country', 'Gold Medal', 'Silver Medal', 'Bronze Medal', 'Total',\n",
       "       'Rank By Total'],\n",
       "      dtype='object')"
      ]
     },
     "execution_count": 15,
     "metadata": {},
     "output_type": "execute_result"
    }
   ],
   "source": [
    "# we are showing a view of our dependent and independent variable\n",
    "# our dependent variable would be 'Rank by Total' and the independent variable would be the other variables\n",
    "tokyo_olympics.columns"
   ]
  },
  {
   "cell_type": "markdown",
   "id": "860a605c-0bc3-4c12-8ab2-94b42a52676d",
   "metadata": {},
   "source": [
    "# Data shape"
   ]
  },
  {
   "cell_type": "code",
   "execution_count": 18,
   "id": "c8353968-d46e-4eab-b3b0-e579bc389ab1",
   "metadata": {},
   "outputs": [
    {
     "data": {
      "text/plain": [
       "(93, 6)"
      ]
     },
     "execution_count": 18,
     "metadata": {},
     "output_type": "execute_result"
    }
   ],
   "source": [
    "# we have 93 rolls and 6 columns\n",
    "tokyo_olympics.shape"
   ]
  },
  {
   "cell_type": "markdown",
   "id": "223185ed-9cb0-48af-a0ba-1d54af4caf69",
   "metadata": {},
   "source": [
    "# We have no null values in our dataset"
   ]
  },
  {
   "cell_type": "code",
   "execution_count": 21,
   "id": "ca8a4f15-19aa-4f76-adf9-e3a985197264",
   "metadata": {},
   "outputs": [
    {
     "data": {
      "text/plain": [
       "Country          0\n",
       "Gold Medal       0\n",
       "Silver Medal     0\n",
       "Bronze Medal     0\n",
       "Total            0\n",
       "Rank By Total    0\n",
       "dtype: int64"
      ]
     },
     "execution_count": 21,
     "metadata": {},
     "output_type": "execute_result"
    }
   ],
   "source": [
    "tokyo_olympics.isnull().sum()"
   ]
  },
  {
   "cell_type": "markdown",
   "id": "e767cd2c-eb20-4082-bae5-2273400c2673",
   "metadata": {},
   "source": [
    "# The data type is normalized"
   ]
  },
  {
   "cell_type": "code",
   "execution_count": 24,
   "id": "649905c3-0e36-4921-a70f-4d81d7337320",
   "metadata": {},
   "outputs": [
    {
     "data": {
      "text/plain": [
       "Country          object\n",
       "Gold Medal        int64\n",
       "Silver Medal      int64\n",
       "Bronze Medal      int64\n",
       "Total             int64\n",
       "Rank By Total     int64\n",
       "dtype: object"
      ]
     },
     "execution_count": 24,
     "metadata": {},
     "output_type": "execute_result"
    }
   ],
   "source": [
    "tokyo_olympics.dtypes"
   ]
  },
  {
   "cell_type": "markdown",
   "id": "ba769090-e2ff-4381-a107-bb4b40ec41f7",
   "metadata": {},
   "source": [
    "# DataFrame information"
   ]
  },
  {
   "cell_type": "code",
   "execution_count": 27,
   "id": "e2c8a0d9-139f-4b3a-b3a2-78051ba6bb25",
   "metadata": {},
   "outputs": [
    {
     "name": "stdout",
     "output_type": "stream",
     "text": [
      "<class 'pandas.core.frame.DataFrame'>\n",
      "RangeIndex: 93 entries, 0 to 92\n",
      "Data columns (total 6 columns):\n",
      " #   Column         Non-Null Count  Dtype \n",
      "---  ------         --------------  ----- \n",
      " 0   Country        93 non-null     object\n",
      " 1   Gold Medal     93 non-null     int64 \n",
      " 2   Silver Medal   93 non-null     int64 \n",
      " 3   Bronze Medal   93 non-null     int64 \n",
      " 4   Total          93 non-null     int64 \n",
      " 5   Rank By Total  93 non-null     int64 \n",
      "dtypes: int64(5), object(1)\n",
      "memory usage: 4.5+ KB\n"
     ]
    }
   ],
   "source": [
    "# Checking & Reviewing DataFrame information\n",
    "tokyo_olympics.info()"
   ]
  },
  {
   "cell_type": "markdown",
   "id": "5e804a35-ff27-4569-8838-e9ee345e9f95",
   "metadata": {},
   "source": [
    "# Descriptive statistic for the Data"
   ]
  },
  {
   "cell_type": "code",
   "execution_count": 30,
   "id": "b18df3dd-6d79-4025-82c0-ddd86be8d477",
   "metadata": {
    "scrolled": true
   },
   "outputs": [
    {
     "data": {
      "text/html": [
       "<div>\n",
       "<style scoped>\n",
       "    .dataframe tbody tr th:only-of-type {\n",
       "        vertical-align: middle;\n",
       "    }\n",
       "\n",
       "    .dataframe tbody tr th {\n",
       "        vertical-align: top;\n",
       "    }\n",
       "\n",
       "    .dataframe thead th {\n",
       "        text-align: right;\n",
       "    }\n",
       "</style>\n",
       "<table border=\"1\" class=\"dataframe\">\n",
       "  <thead>\n",
       "    <tr style=\"text-align: right;\">\n",
       "      <th></th>\n",
       "      <th>Gold Medal</th>\n",
       "      <th>Silver Medal</th>\n",
       "      <th>Bronze Medal</th>\n",
       "      <th>Total</th>\n",
       "      <th>Rank By Total</th>\n",
       "    </tr>\n",
       "  </thead>\n",
       "  <tbody>\n",
       "    <tr>\n",
       "      <th>count</th>\n",
       "      <td>93.000000</td>\n",
       "      <td>93.000000</td>\n",
       "      <td>93.000000</td>\n",
       "      <td>93.000000</td>\n",
       "      <td>93.000000</td>\n",
       "    </tr>\n",
       "    <tr>\n",
       "      <th>mean</th>\n",
       "      <td>3.655914</td>\n",
       "      <td>3.634409</td>\n",
       "      <td>4.322581</td>\n",
       "      <td>11.612903</td>\n",
       "      <td>43.494624</td>\n",
       "    </tr>\n",
       "    <tr>\n",
       "      <th>std</th>\n",
       "      <td>7.022471</td>\n",
       "      <td>6.626339</td>\n",
       "      <td>6.210372</td>\n",
       "      <td>19.091332</td>\n",
       "      <td>24.171769</td>\n",
       "    </tr>\n",
       "    <tr>\n",
       "      <th>min</th>\n",
       "      <td>0.000000</td>\n",
       "      <td>0.000000</td>\n",
       "      <td>0.000000</td>\n",
       "      <td>1.000000</td>\n",
       "      <td>1.000000</td>\n",
       "    </tr>\n",
       "    <tr>\n",
       "      <th>25%</th>\n",
       "      <td>0.000000</td>\n",
       "      <td>0.000000</td>\n",
       "      <td>1.000000</td>\n",
       "      <td>2.000000</td>\n",
       "      <td>23.000000</td>\n",
       "    </tr>\n",
       "    <tr>\n",
       "      <th>50%</th>\n",
       "      <td>1.000000</td>\n",
       "      <td>1.000000</td>\n",
       "      <td>2.000000</td>\n",
       "      <td>4.000000</td>\n",
       "      <td>47.000000</td>\n",
       "    </tr>\n",
       "    <tr>\n",
       "      <th>75%</th>\n",
       "      <td>3.000000</td>\n",
       "      <td>4.000000</td>\n",
       "      <td>5.000000</td>\n",
       "      <td>11.000000</td>\n",
       "      <td>66.000000</td>\n",
       "    </tr>\n",
       "    <tr>\n",
       "      <th>max</th>\n",
       "      <td>39.000000</td>\n",
       "      <td>41.000000</td>\n",
       "      <td>33.000000</td>\n",
       "      <td>113.000000</td>\n",
       "      <td>77.000000</td>\n",
       "    </tr>\n",
       "  </tbody>\n",
       "</table>\n",
       "</div>"
      ],
      "text/plain": [
       "       Gold Medal  Silver Medal  Bronze Medal       Total  Rank By Total\n",
       "count   93.000000     93.000000     93.000000   93.000000      93.000000\n",
       "mean     3.655914      3.634409      4.322581   11.612903      43.494624\n",
       "std      7.022471      6.626339      6.210372   19.091332      24.171769\n",
       "min      0.000000      0.000000      0.000000    1.000000       1.000000\n",
       "25%      0.000000      0.000000      1.000000    2.000000      23.000000\n",
       "50%      1.000000      1.000000      2.000000    4.000000      47.000000\n",
       "75%      3.000000      4.000000      5.000000   11.000000      66.000000\n",
       "max     39.000000     41.000000     33.000000  113.000000      77.000000"
      ]
     },
     "execution_count": 30,
     "metadata": {},
     "output_type": "execute_result"
    }
   ],
   "source": [
    "# Overview descriptive statistic for the Data\n",
    "tokyo_olympics.describe()"
   ]
  },
  {
   "cell_type": "markdown",
   "id": "2a801703-505b-412c-983a-f205ac4bf4a3",
   "metadata": {},
   "source": [
    "# Checking for Outliers"
   ]
  },
  {
   "cell_type": "code",
   "execution_count": 33,
   "id": "429b44fa-e5ef-482a-a100-fb9c56d61819",
   "metadata": {},
   "outputs": [
    {
     "data": {
      "image/png": "[encoded data removed]",
      "text/plain": [
       "<Figure size 1000x600 with 1 Axes>"
      ]
     },
     "metadata": {},
     "output_type": "display_data"
    }
   ],
   "source": [
    "# Use Box plot to check if their are any outliers\n",
    "plt.figure(figsize=(10,6))\n",
    "sns.boxplot(x=tokyo_olympics['Rank By Total'], color='purple')\n",
    "plt.title('Number of Medals Collected')\n",
    "plt.xlabel('Rank By Total')\n",
    "plt.show()"
   ]
  },
  {
   "cell_type": "code",
   "execution_count": 34,
   "id": "4af87c80-6be1-40f3-b1b4-bb67cb26dcd6",
   "metadata": {},
   "outputs": [],
   "source": [
    "# we used the following code only for selecting only the numeric columns from the DataFrame \n",
    "numeric_data = tokyo_olympics.select_dtypes(include=[np.number])"
   ]
  },
  {
   "cell_type": "code",
   "execution_count": 35,
   "id": "90d97274-38ba-43ca-987e-3bf784687d72",
   "metadata": {},
   "outputs": [
    {
     "data": {
      "image/png": "[encoded data removed]",
      "text/plain": [
       "<Figure size 1200x800 with 2 Axes>"
      ]
     },
     "metadata": {},
     "output_type": "display_data"
    }
   ],
   "source": [
    "# Plot heat map to check the correlation of the variables\n",
    "plt.figure(figsize=(12, 8))\n",
    "sns.heatmap(numeric_data.corr(), annot=True, cmap='Greens')\n",
    "plt.title('Correlation Heatmap of Tokyo Olympics Data')\n",
    "plt.show()\n"
   ]
  },
  {
   "cell_type": "markdown",
   "id": "29ca8af0-063a-4889-b34e-e31653f2b91f",
   "metadata": {},
   "source": [
    "# Drop non numeric column"
   ]
  },
  {
   "cell_type": "code",
   "execution_count": 39,
   "id": "be1c9635-0910-464f-b3df-17dac58ea7e8",
   "metadata": {},
   "outputs": [],
   "source": [
    "tokyo_olympics = tokyo_olympics.drop(columns = ['Country'], axis = 1)"
   ]
  },
  {
   "cell_type": "markdown",
   "id": "9076a57b-7d6f-483f-a8f6-771aa2c148bb",
   "metadata": {},
   "source": [
    "# Import libraries to train and test the dataset"
   ]
  },
  {
   "cell_type": "code",
   "execution_count": 43,
   "id": "b8cb33e8-e8df-4940-9711-459d4f50fc4c",
   "metadata": {},
   "outputs": [],
   "source": [
    "import scipy.stats as stats\n",
    "import statsmodels.api as sm\n",
    "from sklearn.linear_model import LinearRegression\n",
    "from sklearn.model_selection import train_test_split\n",
    "from sklearn.metrics import confusion_matrix, accuracy_score\n",
    "import statsmodels.api as sm"
   ]
  },
  {
   "cell_type": "markdown",
   "id": "43c46242-0db8-400d-b751-645b1754f80a",
   "metadata": {},
   "source": [
    "# Define the variables"
   ]
  },
  {
   "cell_type": "code",
   "execution_count": 45,
   "id": "8e6ea2aa-4bf5-4ae8-9922-2e180f6da430",
   "metadata": {},
   "outputs": [],
   "source": [
    "#Define your features(independent variable) and target(dependent variable)\n",
    "features = ['Gold Medal', 'Silver Medal', 'Bronze Medal', 'Total', 'Rank By Total']\n",
    "target = ['Rank By Total']"
   ]
  },
  {
   "cell_type": "code",
   "execution_count": 46,
   "id": "b3a8931f-48e6-4f5e-a448-e6e8a4046378",
   "metadata": {},
   "outputs": [],
   "source": [
    "# Assign the variables to X and Y\n",
    "X = tokyo_olympics[features]\n",
    "y = tokyo_olympics[target]"
   ]
  },
  {
   "cell_type": "markdown",
   "id": "82c1645b-9771-4ddf-b64a-897e46988822",
   "metadata": {},
   "source": [
    "# Split the variables into training and testing"
   ]
  },
  {
   "cell_type": "code",
   "execution_count": 48,
   "id": "284254a0-4cce-4ad8-95f3-5ce3b8ba7282",
   "metadata": {},
   "outputs": [],
   "source": [
    "#split the data into a training set and a testing set\n",
    "#test_size specifies the proportion of the data to be included in the test split\n",
    "# random_state ensures reproducibility of your split\n",
    "X_train, X_test, y_train, y_test = train_test_split(X, y, test_size=0.2, random_state=22)"
   ]
  },
  {
   "cell_type": "code",
   "execution_count": 49,
   "id": "5506fc05-f29f-4043-a31a-e9093b72350a",
   "metadata": {},
   "outputs": [
    {
     "name": "stdout",
     "output_type": "stream",
     "text": [
      "Training set size: 74samples\n",
      "Test set size: 19 samples\n"
     ]
    }
   ],
   "source": [
    "#Check the size of the splits\n",
    "print(f'Training set size: {X_train.shape[0]}samples')\n",
    "print(f'Test set size: {X_test.shape[0]} samples')"
   ]
  },
  {
   "cell_type": "markdown",
   "id": "4d7c39a7-ee9b-4f6c-a3b3-070cdce69dd8",
   "metadata": {},
   "source": [
    "# Creating a regression model"
   ]
  },
  {
   "cell_type": "code",
   "execution_count": 51,
   "id": "fa3c0dcd-eb92-420f-8dab-2f07dcdf327b",
   "metadata": {},
   "outputs": [],
   "source": [
    "# creating Regression Model \n",
    "regressor = LinearRegression()"
   ]
  },
  {
   "cell_type": "code",
   "execution_count": 52,
   "id": "4403e731-68c8-4b8d-9f36-e3700bbf676b",
   "metadata": {},
   "outputs": [],
   "source": [
    "# fit linear regression model\n",
    "model = regressor.fit(X_train, y_train)"
   ]
  },
  {
   "cell_type": "code",
   "execution_count": 53,
   "id": "ed9354a4-f9db-4e70-8fe3-feaf28c905f2",
   "metadata": {},
   "outputs": [],
   "source": [
    "# use model to make predictions\n",
    "y_pred = regressor.predict(X_test)"
   ]
  },
  {
   "cell_type": "code",
   "execution_count": 54,
   "id": "a0cd390d-ab21-4c6d-b7ac-561fe609ba25",
   "metadata": {},
   "outputs": [],
   "source": [
    "#PREDICTION\n",
    "# with the test predictions complete, the next step will better compare them\n",
    "# with the actual output values for X_test by organizing them in a DataFrameformat:\n",
    "predicted = regressor.predict(X_test)"
   ]
  },
  {
   "cell_type": "code",
   "execution_count": 55,
   "id": "1d74bf3b-acbd-43e6-81fb-c045aca129e9",
   "metadata": {},
   "outputs": [
    {
     "data": {
      "text/plain": [
       "(19, 1)"
      ]
     },
     "execution_count": 55,
     "metadata": {},
     "output_type": "execute_result"
    }
   ],
   "source": [
    "# X_test shape\n",
    "predicted.shape"
   ]
  },
  {
   "cell_type": "code",
   "execution_count": 56,
   "id": "dd934c49-f932-4b13-b20b-a6bfa266bc90",
   "metadata": {},
   "outputs": [
    {
     "name": "stdout",
     "output_type": "stream",
     "text": [
      "Model Coefficients: [[ 9.50684095e-16  6.79046031e-16 -1.81416048e-15 -1.52422049e-16\n",
      "   1.00000000e+00]]\n",
      "Model intercept: [-7.10542736e-15]\n"
     ]
    }
   ],
   "source": [
    "#VALIDATING THE FIT\n",
    "# printout relevant metrics\n",
    "print(\"Model Coefficients:\", regressor.coef_)\n",
    "#looking at the intercept\n",
    "print(\"Model intercept:\", regressor.intercept_)"
   ]
  },
  {
   "cell_type": "markdown",
   "id": "dc4f4ebf-3bc1-431d-bb69-df0bcd20255c",
   "metadata": {},
   "source": [
    "# NORMALLITY OF RESIDUAL"
   ]
  },
  {
   "cell_type": "code",
   "execution_count": 58,
   "id": "a1665bb0-e95f-4671-b105-f7c71af3071e",
   "metadata": {},
   "outputs": [
    {
     "data": {
      "text/plain": [
       "<Axes: ylabel='Density'>"
      ]
     },
     "execution_count": 58,
     "metadata": {},
     "output_type": "execute_result"
    },
    {
     "data": {
      "image/png": "[encoded data removed]",
      "text/plain": [
       "<Figure size 640x480 with 1 Axes>"
      ]
     },
     "metadata": {},
     "output_type": "display_data"
    }
   ],
   "source": [
    "import warnings\n",
    "warnings.filterwarnings(\"ignore\")\n",
    "residual = y_test - predicted\n",
    "sns.distplot(residual)"
   ]
  },
  {
   "cell_type": "markdown",
   "id": "d07fd7e5-ad6f-4b6b-ba77-2a0c36048ead",
   "metadata": {},
   "source": [
    "# Checking for p value"
   ]
  },
  {
   "cell_type": "code",
   "execution_count": 60,
   "id": "2664626f-2930-4ccb-809c-8100a6ecc9e5",
   "metadata": {},
   "outputs": [
    {
     "name": "stdout",
     "output_type": "stream",
     "text": [
      "p value is:0.04745968180294733\n"
     ]
    }
   ],
   "source": [
    "# importing scipy library\n",
    "import scipy.stats\n",
    "\n",
    "# finding p-value\n",
    "p_value = scipy.stats.norm.sf(abs(1.67))\n",
    "print('p value is:' + str(p_value))"
   ]
  },
  {
   "cell_type": "markdown",
   "id": "6506f697-29c2-4d20-8c69-8473a496f664",
   "metadata": {},
   "source": [
    "# OLS Regressing Results model"
   ]
  },
  {
   "cell_type": "code",
   "execution_count": 63,
   "id": "87734b77-ff06-42a5-8013-2bccd07af247",
   "metadata": {},
   "outputs": [
    {
     "data": {
      "text/html": [
       "<table class=\"simpletable\">\n",
       "<caption>OLS Regression Results</caption>\n",
       "<tr>\n",
       "  <th>Dep. Variable:</th>      <td>Rank By Total</td>  <th>  R-squared (uncentered):</th>      <td>   1.000</td> \n",
       "</tr>\n",
       "<tr>\n",
       "  <th>Model:</th>                   <td>OLS</td>       <th>  Adj. R-squared (uncentered):</th> <td>   1.000</td> \n",
       "</tr>\n",
       "<tr>\n",
       "  <th>Method:</th>             <td>Least Squares</td>  <th>  F-statistic:       </th>          <td>1.658e+31</td>\n",
       "</tr>\n",
       "<tr>\n",
       "  <th>Date:</th>             <td>Thu, 20 Jun 2024</td> <th>  Prob (F-statistic):</th>          <td>1.23e-229</td>\n",
       "</tr>\n",
       "<tr>\n",
       "  <th>Time:</th>                 <td>16:51:50</td>     <th>  Log-Likelihood:    </th>          <td>  568.14</td> \n",
       "</tr>\n",
       "<tr>\n",
       "  <th>No. Observations:</th>      <td>    19</td>      <th>  AIC:               </th>          <td>  -1128.</td> \n",
       "</tr>\n",
       "<tr>\n",
       "  <th>Df Residuals:</th>          <td>    15</td>      <th>  BIC:               </th>          <td>  -1124.</td> \n",
       "</tr>\n",
       "<tr>\n",
       "  <th>Df Model:</th>              <td>     4</td>      <th>                     </th>              <td> </td>    \n",
       "</tr>\n",
       "<tr>\n",
       "  <th>Covariance Type:</th>      <td>nonrobust</td>    <th>                     </th>              <td> </td>    \n",
       "</tr>\n",
       "</table>\n",
       "<table class=\"simpletable\">\n",
       "<tr>\n",
       "        <td></td>           <th>coef</th>     <th>std err</th>      <th>t</th>      <th>P>|t|</th>  <th>[0.025</th>    <th>0.975]</th>  \n",
       "</tr>\n",
       "<tr>\n",
       "  <th>Gold Medal</th>    <td> 8.993e-15</td> <td> 2.37e-15</td> <td>    3.796</td> <td> 0.002</td> <td> 3.94e-15</td> <td>  1.4e-14</td>\n",
       "</tr>\n",
       "<tr>\n",
       "  <th>Silver Medal</th>  <td>-2.887e-15</td> <td> 2.64e-15</td> <td>   -1.093</td> <td> 0.292</td> <td>-8.51e-15</td> <td> 2.74e-15</td>\n",
       "</tr>\n",
       "<tr>\n",
       "  <th>Bronze Medal</th>  <td>-6.162e-15</td> <td> 2.89e-15</td> <td>   -2.133</td> <td> 0.050</td> <td>-1.23e-14</td> <td>-5.03e-18</td>\n",
       "</tr>\n",
       "<tr>\n",
       "  <th>Total</th>         <td>-3.834e-16</td> <td> 2.03e-16</td> <td>   -1.887</td> <td> 0.079</td> <td>-8.16e-16</td> <td> 4.96e-17</td>\n",
       "</tr>\n",
       "<tr>\n",
       "  <th>Rank By Total</th> <td>    1.0000</td> <td> 1.28e-16</td> <td> 7.83e+15</td> <td> 0.000</td> <td>    1.000</td> <td>    1.000</td>\n",
       "</tr>\n",
       "</table>\n",
       "<table class=\"simpletable\">\n",
       "<tr>\n",
       "  <th>Omnibus:</th>       <td>11.039</td> <th>  Durbin-Watson:     </th> <td>   1.978</td>\n",
       "</tr>\n",
       "<tr>\n",
       "  <th>Prob(Omnibus):</th> <td> 0.004</td> <th>  Jarque-Bera (JB):  </th> <td>  10.496</td>\n",
       "</tr>\n",
       "<tr>\n",
       "  <th>Skew:</th>          <td>-0.981</td> <th>  Prob(JB):          </th> <td> 0.00526</td>\n",
       "</tr>\n",
       "<tr>\n",
       "  <th>Kurtosis:</th>      <td> 6.068</td> <th>  Cond. No.          </th> <td>1.65e+17</td>\n",
       "</tr>\n",
       "</table><br/><br/>Notes:<br/>[1] R² is computed without centering (uncentered) since the model does not contain a constant.<br/>[2] Standard Errors assume that the covariance matrix of the errors is correctly specified.<br/>[3] The smallest eigenvalue is 1.95e-30. This might indicate that there are<br/>strong multicollinearity problems or that the design matrix is singular."
      ],
      "text/latex": [
       "\\begin{center}\n",
       "\\begin{tabular}{lclc}\n",
       "\\toprule\n",
       "\\textbf{Dep. Variable:}    &  Rank By Total   & \\textbf{  R-squared (uncentered):}      &     1.000   \\\\\n",
       "\\textbf{Model:}            &       OLS        & \\textbf{  Adj. R-squared (uncentered):} &     1.000   \\\\\n",
       "\\textbf{Method:}           &  Least Squares   & \\textbf{  F-statistic:       }          & 1.658e+31   \\\\\n",
       "\\textbf{Date:}             & Thu, 20 Jun 2024 & \\textbf{  Prob (F-statistic):}          & 1.23e-229   \\\\\n",
       "\\textbf{Time:}             &     16:51:50     & \\textbf{  Log-Likelihood:    }          &    568.14   \\\\\n",
       "\\textbf{No. Observations:} &          19      & \\textbf{  AIC:               }          &    -1128.   \\\\\n",
       "\\textbf{Df Residuals:}     &          15      & \\textbf{  BIC:               }          &    -1124.   \\\\\n",
       "\\textbf{Df Model:}         &           4      & \\textbf{                     }          &             \\\\\n",
       "\\textbf{Covariance Type:}  &    nonrobust     & \\textbf{                     }          &             \\\\\n",
       "\\bottomrule\n",
       "\\end{tabular}\n",
       "\\begin{tabular}{lcccccc}\n",
       "                       & \\textbf{coef} & \\textbf{std err} & \\textbf{t} & \\textbf{P$> |$t$|$} & \\textbf{[0.025} & \\textbf{0.975]}  \\\\\n",
       "\\midrule\n",
       "\\textbf{Gold Medal}    &    8.993e-15  &     2.37e-15     &     3.796  &         0.002        &     3.94e-15    &      1.4e-14     \\\\\n",
       "\\textbf{Silver Medal}  &   -2.887e-15  &     2.64e-15     &    -1.093  &         0.292        &    -8.51e-15    &     2.74e-15     \\\\\n",
       "\\textbf{Bronze Medal}  &   -6.162e-15  &     2.89e-15     &    -2.133  &         0.050        &    -1.23e-14    &    -5.03e-18     \\\\\n",
       "\\textbf{Total}         &   -3.834e-16  &     2.03e-16     &    -1.887  &         0.079        &    -8.16e-16    &     4.96e-17     \\\\\n",
       "\\textbf{Rank By Total} &       1.0000  &     1.28e-16     &  7.83e+15  &         0.000        &        1.000    &        1.000     \\\\\n",
       "\\bottomrule\n",
       "\\end{tabular}\n",
       "\\begin{tabular}{lclc}\n",
       "\\textbf{Omnibus:}       & 11.039 & \\textbf{  Durbin-Watson:     } &    1.978  \\\\\n",
       "\\textbf{Prob(Omnibus):} &  0.004 & \\textbf{  Jarque-Bera (JB):  } &   10.496  \\\\\n",
       "\\textbf{Skew:}          & -0.981 & \\textbf{  Prob(JB):          } &  0.00526  \\\\\n",
       "\\textbf{Kurtosis:}      &  6.068 & \\textbf{  Cond. No.          } & 1.65e+17  \\\\\n",
       "\\bottomrule\n",
       "\\end{tabular}\n",
       "%\\caption{OLS Regression Results}\n",
       "\\end{center}\n",
       "\n",
       "Notes: \\newline\n",
       " [1] R² is computed without centering (uncentered) since the model does not contain a constant. \\newline\n",
       " [2] Standard Errors assume that the covariance matrix of the errors is correctly specified. \\newline\n",
       " [3] The smallest eigenvalue is 1.95e-30. This might indicate that there are \\newline\n",
       " strong multicollinearity problems or that the design matrix is singular."
      ],
      "text/plain": [
       "<class 'statsmodels.iolib.summary.Summary'>\n",
       "\"\"\"\n",
       "                                 OLS Regression Results                                \n",
       "=======================================================================================\n",
       "Dep. Variable:          Rank By Total   R-squared (uncentered):                   1.000\n",
       "Model:                            OLS   Adj. R-squared (uncentered):              1.000\n",
       "Method:                 Least Squares   F-statistic:                          1.658e+31\n",
       "Date:                Thu, 20 Jun 2024   Prob (F-statistic):                   1.23e-229\n",
       "Time:                        16:51:50   Log-Likelihood:                          568.14\n",
       "No. Observations:                  19   AIC:                                     -1128.\n",
       "Df Residuals:                      15   BIC:                                     -1124.\n",
       "Df Model:                           4                                                  \n",
       "Covariance Type:            nonrobust                                                  \n",
       "=================================================================================\n",
       "                    coef    std err          t      P>|t|      [0.025      0.975]\n",
       "---------------------------------------------------------------------------------\n",
       "Gold Medal     8.993e-15   2.37e-15      3.796      0.002    3.94e-15     1.4e-14\n",
       "Silver Medal  -2.887e-15   2.64e-15     -1.093      0.292   -8.51e-15    2.74e-15\n",
       "Bronze Medal  -6.162e-15   2.89e-15     -2.133      0.050   -1.23e-14   -5.03e-18\n",
       "Total         -3.834e-16   2.03e-16     -1.887      0.079   -8.16e-16    4.96e-17\n",
       "Rank By Total     1.0000   1.28e-16   7.83e+15      0.000       1.000       1.000\n",
       "==============================================================================\n",
       "Omnibus:                       11.039   Durbin-Watson:                   1.978\n",
       "Prob(Omnibus):                  0.004   Jarque-Bera (JB):               10.496\n",
       "Skew:                          -0.981   Prob(JB):                      0.00526\n",
       "Kurtosis:                       6.068   Cond. No.                     1.65e+17\n",
       "==============================================================================\n",
       "\n",
       "Notes:\n",
       "[1] R² is computed without centering (uncentered) since the model does not contain a constant.\n",
       "[2] Standard Errors assume that the covariance matrix of the errors is correctly specified.\n",
       "[3] The smallest eigenvalue is 1.95e-30. This might indicate that there are\n",
       "strong multicollinearity problems or that the design matrix is singular.\n",
       "\"\"\""
      ]
     },
     "execution_count": 63,
     "metadata": {},
     "output_type": "execute_result"
    }
   ],
   "source": [
    "# printing the OLS Regressin Resluts model\n",
    "results3 = sm.OLS(y_test, X_test).fit()\n",
    "results3.summary()"
   ]
  },
  {
   "cell_type": "markdown",
   "id": "de003509-e924-4705-a0ba-a5cd4e3d5ebf",
   "metadata": {},
   "source": [
    "# Regression score"
   ]
  },
  {
   "cell_type": "code",
   "execution_count": 70,
   "id": "3844da8e-ddb5-4b1a-85eb-9472cbec6948",
   "metadata": {},
   "outputs": [
    {
     "name": "stdout",
     "output_type": "stream",
     "text": [
      "Linear regression confidence: 1.0\n"
     ]
    }
   ],
   "source": [
    "# checking the regression score\n",
    "from sklearn.metrics import confusion_matrix, accuracy_score\n",
    "\n",
    "regression_confidence = regressor.score(X_test, y_test)\n",
    "print(\"Linear regression confidence:\", regression_confidence)"
   ]
  },
  {
   "cell_type": "markdown",
   "id": "7ec48a7e-b93e-4bb2-aaaf-d87679b08c1e",
   "metadata": {},
   "source": [
    "# Evaluate the model"
   ]
  },
  {
   "cell_type": "code",
   "execution_count": 77,
   "id": "e77dca66-c341-4465-a8c9-23b5072b6829",
   "metadata": {},
   "outputs": [],
   "source": [
    "# Evaluate the model using sklearn.metrics\n",
    "mse = mean_squared_error(y_test, y_pred)\n",
    "r2 = r2_score(y_test, y_pred)"
   ]
  },
  {
   "cell_type": "code",
   "execution_count": 78,
   "id": "70c21fc7-6b86-47e8-be8b-3537424e0c72",
   "metadata": {},
   "outputs": [
    {
     "name": "stdout",
     "output_type": "stream",
     "text": [
      "6.104330241585225e-29\n",
      "1.0\n"
     ]
    }
   ],
   "source": [
    "print(mse)\n",
    "print(r2)"
   ]
  },
  {
   "cell_type": "markdown",
   "id": "c7cd70b9-be52-4eda-8fb3-29d21b56f7da",
   "metadata": {},
   "source": [
    "# Model Accuracy"
   ]
  },
  {
   "cell_type": "code",
   "execution_count": 83,
   "id": "6695ff1d-370e-4222-9a0f-b7f8607480dd",
   "metadata": {},
   "outputs": [
    {
     "name": "stdout",
     "output_type": "stream",
     "text": [
      "Accuracy: 100.0 %.\n"
     ]
    }
   ],
   "source": [
    "x2 = abs(predicted - y_test)\n",
    "y2 = 100 * (x2 / y_test)\n",
    "accuracy = 100 - np.mean(y2)\n",
    "print('Accuracy:', round(accuracy, 2), '%.')"
   ]
  },
  {
   "cell_type": "code",
   "execution_count": null,
   "id": "4f92d721-0758-4c65-a5d9-69a49ed33ca0",
   "metadata": {},
   "outputs": [],
   "source": []
  }
 ],
 "metadata": {
  "kernelspec": {
   "display_name": "Python 3 (ipykernel)",
   "language": "python",
   "name": "python3"
  },
  "language_info": {
   "codemirror_mode": {
    "name": "ipython",
    "version": 3
   },
   "file_extension": ".py",
   "mimetype": "text/x-python",
   "name": "python",
   "nbconvert_exporter": "python",
   "pygments_lexer": "ipython3",
   "version": "3.11.7"
  }
 },
 "nbformat": 4,
 "nbformat_minor": 5
}
